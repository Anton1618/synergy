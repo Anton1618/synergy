{
 "cells": [
  {
   "cell_type": "markdown",
   "id": "8953cbdc",
   "metadata": {},
   "source": [
    "Частотный анализ"
   ]
  },
  {
   "cell_type": "code",
   "execution_count": 15,
   "id": "cd0eb21b",
   "metadata": {},
   "outputs": [],
   "source": [
    "import numpy as np\n",
    "import pandas as pd"
   ]
  },
  {
   "cell_type": "code",
   "execution_count": 16,
   "id": "9b0f781a",
   "metadata": {},
   "outputs": [],
   "source": [
    "text = \"\"\"Не уходи == смиренно, в сумрак вечной;; тьмы,;\n",
    "Пусть\\n тлеет\\n бесконечность\\n в яростном\\n закате\\n.;\n",
    "Пылает <<<<<<<<<<< гнев на то, как гаснет << смертный мир,;\n",
    "Пусть мудрецы твердят, что прав лишь тьмы покой.;\n",
    "И не разжечь --- уж тлеющий костёр.;\n",
    "Не уходи смиренно в сумрак вечной тьмы,;\n",
    "Пылает гнев на то, как гаснет смертный мир;\n",
    "Не гасни, уходя во мрак ночной.;\n",
    "Пусть вспыхнет старость == заревом заката.;\n",
    "Встань против тьмы, сдавившей свет земной.;\n",
    "Мудрец твердит: ночь — праведный покой,;\n",
    "Не став при жизни молнией крылатой.;\n",
    "Не гасни, уходя во мрак ночной.;\n",
    "Глупец, побитый == штормовой волной,;\n",
    "Как в тихой бухте —— рад, что в смерть упрятан...;\n",
    "Встань против тьмы, сдавившей свет земной.;\n",
    "Подлец, желавший солнце скрыть стеной,;\n",
    "Скулит, когда приходит ночь расплаты.;\n",
    "Не гасни, --уходя во мрак ночной.;\n",
    "Слепец прозреет в миг последний свой:;\n",
    "Ведь были звёзды-радуги когда-то...;\n",
    "Встань против тьмы, сдавившей свет земной.;\n",
    "Отец, ты —— перед чёрной крутизной.;\n",
    "От слёз --== всё в мире солоно и свято.;\n",
    "Не гасни, уходя во мрак ночной.;\n",
    "Встань против тьмы, сдавившей свет земной\"\"\""
   ]
  },
  {
   "cell_type": "code",
   "execution_count": 17,
   "id": "4ce765d4",
   "metadata": {},
   "outputs": [
    {
     "name": "stdout",
     "output_type": "stream",
     "text": [
      "Количество слов в тексте: 164\n"
     ]
    }
   ],
   "source": [
    "text = text.replace('\\n', ' ').replace('<<', '').replace('==', '').replace(';', ' ').replace('——', '').replace('--', ' ')\n",
    "text_splitted = text.split(' ')\n",
    "while '' in text_splitted:\n",
    "    text_splitted.remove('')\n",
    "print(f'Количество слов в тексте: {len(text_splitted)}')"
   ]
  },
  {
   "cell_type": "code",
   "execution_count": 18,
   "id": "a9f738a6",
   "metadata": {},
   "outputs": [
    {
     "data": {
      "text/plain": [
       "104"
      ]
     },
     "execution_count": 18,
     "metadata": {},
     "output_type": "execute_result"
    }
   ],
   "source": [
    "vocalbulary = set(text_splitted)\n",
    "len(vocalbulary)"
   ]
  },
  {
   "cell_type": "code",
   "execution_count": 19,
   "id": "84ed41c1",
   "metadata": {},
   "outputs": [
    {
     "name": "stdout",
     "output_type": "stream",
     "text": [
      "{'—': 1, 'вспыхнет': 1, 'крылатой.': 1, 'приходит': 1, 'тлеющий': 1, 'бухте': 1, 'прозреет': 1, 'мир,': 1, 'смерть': 1, 'покой.': 1, 'штормовой': 1, 'желавший': 1, 'упрятан...': 1, 'всё': 1, 'разжечь': 1, 'От': 1, 'Подлец,': 1, 'тьмы,': 6, '-': 1, 'во': 4, 'когда-то...': 1, 'смиренно,': 1, 'ты': 1, 'старость': 1, 'рад,': 1, 'заревом': 1, 'Как': 1, 'волной,': 1, 'праведный': 1, '<': 1, 'крутизной.': 1, 'смиренно': 1, 'молнией': 1, 'став': 1, 'последний': 1, 'стеной,': 1, 'тьмы': 1, 'И': 1, 'солнце': 1, 'земной': 1, 'гаснет': 2, 'заката.': 1, 'сдавившей': 4, 'вечной': 2, 'чёрной': 1, 'Ведь': 1, 'были': 1, 'ночной.': 4, 'миг': 1, 'Пусть': 3, 'сумрак': 2, 'жизни': 1, 'закате': 1, 'мир': 1, 'мрак': 4, '.': 1, 'тихой': 1, 'лишь': 1, 'земной.': 3, 'свой:': 1, 'против': 4, 'тлеет': 1, 'Мудрец': 1, 'гнев': 2, 'ночь': 2, 'перед': 1, 'Отец,': 1, 'Слепец': 1, 'твердят,': 1, 'свято.': 1, 'солоно': 1, 'Пылает': 2, 'свет': 4, 'на': 2, 'что': 2, 'скрыть': 1, 'Глупец,': 1, 'в': 7, 'уходя': 4, 'расплаты.': 1, 'при': 1, 'бесконечность': 1, 'Не': 7, 'костёр.': 1, 'мудрецы': 1, 'слёз': 1, 'не': 1, 'уж': 1, 'гасни,': 4, 'покой,': 1, 'уходи': 2, 'твердит:': 1, 'побитый': 1, 'яростном': 1, 'звёзды-радуги': 1, 'как': 2, 'Встань': 4, 'когда': 1, 'и': 1, 'то,': 2, 'Скулит,': 1, 'смертный': 2, 'мире': 1, 'прав': 1}\n"
     ]
    }
   ],
   "source": [
    "frequency_dictionary = {word:text_splitted.count(word) for word in vocalbulary}\n",
    "print(frequency_dictionary)"
   ]
  },
  {
   "cell_type": "code",
   "execution_count": 23,
   "id": "5ef7a575",
   "metadata": {},
   "outputs": [],
   "source": [
    "# temp_dict = frequency_dictionary.copy()\n",
    "# ordered_list_of_words = []\n",
    "# while temp_dict:\n",
    "#     max_num = max(temp_dict.values())\n",
    "#     keys = temp_dict.keys()\n",
    "#     for word in keys:\n",
    "#         if temp_dict[word] == max_num:\n",
    "#             current_word = word\n",
    "#             break\n",
    "#     temp_dict.pop(current_word)\n",
    "#     ordered_list_of_words.append(current_word)\n",
    "# print(ordered_list_of_words)"
   ]
  },
  {
   "cell_type": "code",
   "execution_count": 22,
   "id": "b5af09dc",
   "metadata": {},
   "outputs": [],
   "source": [
    "from matplotlib import pyplot as plt\n",
    "\n",
    "x = ordered_list_of_words"
   ]
  },
  {
   "cell_type": "code",
   "execution_count": null,
   "id": "d2c0981b",
   "metadata": {},
   "outputs": [],
   "source": []
  },
  {
   "cell_type": "code",
   "execution_count": null,
   "id": "f9e6a8d3",
   "metadata": {},
   "outputs": [],
   "source": []
  }
 ],
 "metadata": {
  "kernelspec": {
   "display_name": "Python 3 (ipykernel)",
   "language": "python",
   "name": "python3"
  },
  "language_info": {
   "codemirror_mode": {
    "name": "ipython",
    "version": 3
   },
   "file_extension": ".py",
   "mimetype": "text/x-python",
   "name": "python",
   "nbconvert_exporter": "python",
   "pygments_lexer": "ipython3",
   "version": "3.9.7"
  }
 },
 "nbformat": 4,
 "nbformat_minor": 5
}
