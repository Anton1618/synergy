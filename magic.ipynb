{
 "cells": [
  {
   "cell_type": "code",
   "execution_count": 2,
   "id": "f2d58db2",
   "metadata": {},
   "outputs": [
    {
     "name": "stdout",
     "output_type": "stream",
     "text": [
      "3.4.3\n",
      "module://matplotlib_inline.backend_inline\n"
     ]
    }
   ],
   "source": [
    "import matplotlib\n",
    "print(matplotlib.__version__)\n",
    "print(matplotlib.get_backend())"
   ]
  },
  {
   "cell_type": "code",
   "execution_count": 3,
   "id": "b26f0def",
   "metadata": {},
   "outputs": [
    {
     "name": "stdout",
     "output_type": "stream",
     "text": [
      "nbAgg\n"
     ]
    }
   ],
   "source": [
    "matplotlib.use('nbagg')\n",
    "print(matplotlib.get_backend())"
   ]
  },
  {
   "cell_type": "code",
   "execution_count": null,
   "id": "0eb9eaed",
   "metadata": {},
   "outputs": [],
   "source": []
  },
  {
   "cell_type": "code",
   "execution_count": 53,
   "id": "fd1db205",
   "metadata": {},
   "outputs": [],
   "source": [
    "# Получение json файла\n",
    "%pycat matrix_generator.ipynb"
   ]
  },
  {
   "cell_type": "code",
   "execution_count": 55,
   "id": "9b562a1b",
   "metadata": {},
   "outputs": [
    {
     "name": "stdout",
     "output_type": "stream",
     "text": [
      "  24  67 -26  79   5\n",
      "  38  42 -58 -15 -83\n",
      " -35 -42  75 -50  59\n"
     ]
    }
   ],
   "source": [
    "%run matrix_generator.ipynb"
   ]
  },
  {
   "cell_type": "code",
   "execution_count": 115,
   "id": "96c5ea0c",
   "metadata": {},
   "outputs": [
    {
     "name": "stdout",
     "output_type": "stream",
     "text": [
      "Overwriting temp_test.py\n"
     ]
    }
   ],
   "source": [
    "%%writefile temp_test.py\n",
    "# Экспорт данных ячейки в создаваемый файл temp.py\n",
    "print('Текст написан в файле magic')\n",
    "\n",
    "def foo(x):\n",
    "    '''Документирующая строка функции foo'''\n",
    "    return f\"Переданные данные: {x}\"\n",
    "\n",
    "class Test():\n",
    "    \"\"\"Документирующая строка класса Test\"\"\"\n",
    "    pass"
   ]
  },
  {
   "cell_type": "code",
   "execution_count": null,
   "id": "b2894103",
   "metadata": {},
   "outputs": [],
   "source": []
  },
  {
   "cell_type": "code",
   "execution_count": 108,
   "id": "d837ca5e",
   "metadata": {},
   "outputs": [
    {
     "name": "stdout",
     "output_type": "stream",
     "text": [
      "Файл temp_test\n",
      "Строка переменной text\n"
     ]
    }
   ],
   "source": [
    "%run -i temp_test.py"
   ]
  },
  {
   "cell_type": "code",
   "execution_count": null,
   "id": "d3019890",
   "metadata": {
    "scrolled": false
   },
   "outputs": [],
   "source": [
    "# %load temp_test.py\n",
    "print('Файл temp_test')\n",
    "\n",
    "text = \"Строка переменной text\"\n",
    "print(text)"
   ]
  },
  {
   "cell_type": "code",
   "execution_count": null,
   "id": "b1ce54c0",
   "metadata": {},
   "outputs": [],
   "source": []
  },
  {
   "cell_type": "code",
   "execution_count": 117,
   "id": "f9d58e91",
   "metadata": {},
   "outputs": [
    {
     "name": "stdout",
     "output_type": "stream",
     "text": [
      "Once deleted, variables cannot be recovered. Proceed (y/[n])? y\n"
     ]
    }
   ],
   "source": [
    "%reset"
   ]
  },
  {
   "cell_type": "code",
   "execution_count": 121,
   "id": "2a07c0d2",
   "metadata": {
    "scrolled": true
   },
   "outputs": [
    {
     "name": "stdout",
     "output_type": "stream",
     "text": [
      "Interactive namespace is empty.\n"
     ]
    }
   ],
   "source": [
    "%whos"
   ]
  },
  {
   "cell_type": "code",
   "execution_count": null,
   "id": "afaac680",
   "metadata": {},
   "outputs": [],
   "source": []
  },
  {
   "cell_type": "code",
   "execution_count": null,
   "id": "60289680",
   "metadata": {},
   "outputs": [],
   "source": []
  },
  {
   "cell_type": "code",
   "execution_count": 119,
   "id": "6415c385",
   "metadata": {},
   "outputs": [],
   "source": [
    "%edit temp_test.py"
   ]
  },
  {
   "cell_type": "code",
   "execution_count": null,
   "id": "263a2878",
   "metadata": {
    "scrolled": true
   },
   "outputs": [],
   "source": []
  }
 ],
 "metadata": {
  "kernelspec": {
   "display_name": "Python 3 (ipykernel)",
   "language": "python",
   "name": "python3"
  },
  "language_info": {
   "codemirror_mode": {
    "name": "ipython",
    "version": 3
   },
   "file_extension": ".py",
   "mimetype": "text/x-python",
   "name": "python",
   "nbconvert_exporter": "python",
   "pygments_lexer": "ipython3",
   "version": "3.9.7"
  }
 },
 "nbformat": 4,
 "nbformat_minor": 5
}
