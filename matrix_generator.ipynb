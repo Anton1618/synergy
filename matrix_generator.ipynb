{
 "cells": [
  {
   "cell_type": "code",
   "execution_count": 7,
   "id": "b4d217fb",
   "metadata": {},
   "outputs": [
    {
     "name": "stdout",
     "output_type": "stream",
     "text": [
      "  32 -95  38 -34   0\n",
      " -13  88  36  81   5\n",
      " -19  35 -52  -6  67\n"
     ]
    }
   ],
   "source": [
    "from random import randint\n",
    "\n",
    "def matrix_gen(N, M):\n",
    "    '''Генерация матрицы функцией randint()\n",
    "    Матрица будет заполнена целыми числами от -99 до 99\n",
    "    Требуется передать два аргумента.\n",
    "    n - количество строк\n",
    "    m - количество столбцов'''\n",
    "    return [[randint(-99, 99) for j in range(M)] for i in range(N)]\n",
    "    \n",
    "    \n",
    "matrix = matrix_gen(3,5)\n",
    "\n",
    "for i in matrix:\n",
    "    for j in i:\n",
    "        print(\"%4d\" %j, end=\"\")\n",
    "    print()\n",
    "    \n"
   ]
  }
 ],
 "metadata": {
  "kernelspec": {
   "display_name": "Python 3 (ipykernel)",
   "language": "python",
   "name": "python3"
  },
  "language_info": {
   "codemirror_mode": {
    "name": "ipython",
    "version": 3
   },
   "file_extension": ".py",
   "mimetype": "text/x-python",
   "name": "python",
   "nbconvert_exporter": "python",
   "pygments_lexer": "ipython3",
   "version": "3.9.7"
  }
 },
 "nbformat": 4,
 "nbformat_minor": 5
}
