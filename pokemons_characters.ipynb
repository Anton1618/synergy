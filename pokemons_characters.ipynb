{
 "cells": [
  {
   "cell_type": "markdown",
   "id": "888238e1",
   "metadata": {},
   "source": [
    "Dataset характеристик покемонов"
   ]
  },
  {
   "cell_type": "raw",
   "id": "53da7562",
   "metadata": {},
   "source": [
    "Notes:\n",
    "Number - ID покемона в покедексе\n",
    "Name - Имя покемона\n",
    "Type_1 - Первичный тип\n",
    "Type_2 - Второй тип, если он есть у покемонов\n",
    "Total - Общее. Сумма всех базовых характеристик (очки здоровья, атака, защита, специальная атака, специальная защита и скорость)\n",
    "HP - Базовые очки здоровья\n",
    "Attack - Атака. Базовая атака\n",
    "Defense - Защита. Базовая защита\n",
    "Sp_Atk - Базовая специальная атака\n",
    "Sp_Def - Базовая специальная защита\n",
    "Speed - Скорость. Базовая скорость\n",
    "Generation - Поколение. Номер поколения, в котором появился покемон\n",
    "isLegendary - Легендарный. Логическое значение, указывающее, является ли покемон легендарным или нет\n",
    "Color - Наличие цвета. Цвет покемона согласно Покедексу\n",
    "hasGender - Наличие пола. Логическое значение, указывающее, можно ли классифицировать покемона как мужчину или женщину\n",
    "Pr_male - Коэффициент Мужского пола. Вероятность отнесения к мужскому полу, если у покемона есть пол. Вероятность быть женщиной равна 1 минус это значение\n",
    "Egg_Group_1 - Группа основного яйца покемона\n",
    "Egg_Group_2 - Дополнительная группа яйца покемона, при наличии\n",
    "hasMegaEvolution - Логическое значение, указывающее - может ли покемон мега-эволюционировать или нет\n",
    "Height_m - Рост покемона в метрах\n",
    "Weight_kg - Вес покемона в килограммах\n",
    "Catch_Rate - Скорость нанесения ударов\n",
    "Body_Style - Телосложение покемонов согласно Покедексу"
   ]
  },
  {
   "cell_type": "code",
   "execution_count": 82,
   "id": "716a3630",
   "metadata": {},
   "outputs": [
    {
     "data": {
      "text/html": [
       "<div>\n",
       "<style scoped>\n",
       "    .dataframe tbody tr th:only-of-type {\n",
       "        vertical-align: middle;\n",
       "    }\n",
       "\n",
       "    .dataframe tbody tr th {\n",
       "        vertical-align: top;\n",
       "    }\n",
       "\n",
       "    .dataframe thead th {\n",
       "        text-align: right;\n",
       "    }\n",
       "</style>\n",
       "<table border=\"1\" class=\"dataframe\">\n",
       "  <thead>\n",
       "    <tr style=\"text-align: right;\">\n",
       "      <th></th>\n",
       "      <th>Number</th>\n",
       "      <th>Name</th>\n",
       "      <th>Type_1</th>\n",
       "      <th>Type_2</th>\n",
       "      <th>Total</th>\n",
       "      <th>HP</th>\n",
       "      <th>Attack</th>\n",
       "      <th>Defense</th>\n",
       "      <th>Sp_Atk</th>\n",
       "      <th>Sp_Def</th>\n",
       "      <th>...</th>\n",
       "      <th>Color</th>\n",
       "      <th>hasGender</th>\n",
       "      <th>Pr_Male</th>\n",
       "      <th>Egg_Group_1</th>\n",
       "      <th>Egg_Group_2</th>\n",
       "      <th>hasMegaEvolution</th>\n",
       "      <th>Height_m</th>\n",
       "      <th>Weight_kg</th>\n",
       "      <th>Catch_Rate</th>\n",
       "      <th>Body_Style</th>\n",
       "    </tr>\n",
       "  </thead>\n",
       "  <tbody>\n",
       "    <tr>\n",
       "      <th>0</th>\n",
       "      <td>1</td>\n",
       "      <td>Bulbasaur</td>\n",
       "      <td>Grass</td>\n",
       "      <td>Poison</td>\n",
       "      <td>318</td>\n",
       "      <td>45</td>\n",
       "      <td>49</td>\n",
       "      <td>49</td>\n",
       "      <td>65</td>\n",
       "      <td>65</td>\n",
       "      <td>...</td>\n",
       "      <td>Green</td>\n",
       "      <td>True</td>\n",
       "      <td>0.875</td>\n",
       "      <td>Monster</td>\n",
       "      <td>Grass</td>\n",
       "      <td>False</td>\n",
       "      <td>0.71</td>\n",
       "      <td>6.9</td>\n",
       "      <td>45</td>\n",
       "      <td>quadruped</td>\n",
       "    </tr>\n",
       "    <tr>\n",
       "      <th>1</th>\n",
       "      <td>2</td>\n",
       "      <td>Ivysaur</td>\n",
       "      <td>Grass</td>\n",
       "      <td>Poison</td>\n",
       "      <td>405</td>\n",
       "      <td>60</td>\n",
       "      <td>62</td>\n",
       "      <td>63</td>\n",
       "      <td>80</td>\n",
       "      <td>80</td>\n",
       "      <td>...</td>\n",
       "      <td>Green</td>\n",
       "      <td>True</td>\n",
       "      <td>0.875</td>\n",
       "      <td>Monster</td>\n",
       "      <td>Grass</td>\n",
       "      <td>False</td>\n",
       "      <td>0.99</td>\n",
       "      <td>13.0</td>\n",
       "      <td>45</td>\n",
       "      <td>quadruped</td>\n",
       "    </tr>\n",
       "    <tr>\n",
       "      <th>2</th>\n",
       "      <td>3</td>\n",
       "      <td>Venusaur</td>\n",
       "      <td>Grass</td>\n",
       "      <td>Poison</td>\n",
       "      <td>525</td>\n",
       "      <td>80</td>\n",
       "      <td>82</td>\n",
       "      <td>83</td>\n",
       "      <td>100</td>\n",
       "      <td>100</td>\n",
       "      <td>...</td>\n",
       "      <td>Green</td>\n",
       "      <td>True</td>\n",
       "      <td>0.875</td>\n",
       "      <td>Monster</td>\n",
       "      <td>Grass</td>\n",
       "      <td>True</td>\n",
       "      <td>2.01</td>\n",
       "      <td>100.0</td>\n",
       "      <td>45</td>\n",
       "      <td>quadruped</td>\n",
       "    </tr>\n",
       "    <tr>\n",
       "      <th>3</th>\n",
       "      <td>4</td>\n",
       "      <td>Charmander</td>\n",
       "      <td>Fire</td>\n",
       "      <td>NaN</td>\n",
       "      <td>309</td>\n",
       "      <td>39</td>\n",
       "      <td>52</td>\n",
       "      <td>43</td>\n",
       "      <td>60</td>\n",
       "      <td>50</td>\n",
       "      <td>...</td>\n",
       "      <td>Red</td>\n",
       "      <td>True</td>\n",
       "      <td>0.875</td>\n",
       "      <td>Monster</td>\n",
       "      <td>Dragon</td>\n",
       "      <td>False</td>\n",
       "      <td>0.61</td>\n",
       "      <td>8.5</td>\n",
       "      <td>45</td>\n",
       "      <td>bipedal_tailed</td>\n",
       "    </tr>\n",
       "    <tr>\n",
       "      <th>4</th>\n",
       "      <td>5</td>\n",
       "      <td>Charmeleon</td>\n",
       "      <td>Fire</td>\n",
       "      <td>NaN</td>\n",
       "      <td>405</td>\n",
       "      <td>58</td>\n",
       "      <td>64</td>\n",
       "      <td>58</td>\n",
       "      <td>80</td>\n",
       "      <td>65</td>\n",
       "      <td>...</td>\n",
       "      <td>Red</td>\n",
       "      <td>True</td>\n",
       "      <td>0.875</td>\n",
       "      <td>Monster</td>\n",
       "      <td>Dragon</td>\n",
       "      <td>False</td>\n",
       "      <td>1.09</td>\n",
       "      <td>19.0</td>\n",
       "      <td>45</td>\n",
       "      <td>bipedal_tailed</td>\n",
       "    </tr>\n",
       "    <tr>\n",
       "      <th>...</th>\n",
       "      <td>...</td>\n",
       "      <td>...</td>\n",
       "      <td>...</td>\n",
       "      <td>...</td>\n",
       "      <td>...</td>\n",
       "      <td>...</td>\n",
       "      <td>...</td>\n",
       "      <td>...</td>\n",
       "      <td>...</td>\n",
       "      <td>...</td>\n",
       "      <td>...</td>\n",
       "      <td>...</td>\n",
       "      <td>...</td>\n",
       "      <td>...</td>\n",
       "      <td>...</td>\n",
       "      <td>...</td>\n",
       "      <td>...</td>\n",
       "      <td>...</td>\n",
       "      <td>...</td>\n",
       "      <td>...</td>\n",
       "      <td>...</td>\n",
       "    </tr>\n",
       "    <tr>\n",
       "      <th>716</th>\n",
       "      <td>717</td>\n",
       "      <td>Yveltal</td>\n",
       "      <td>Dark</td>\n",
       "      <td>Flying</td>\n",
       "      <td>680</td>\n",
       "      <td>126</td>\n",
       "      <td>131</td>\n",
       "      <td>95</td>\n",
       "      <td>131</td>\n",
       "      <td>98</td>\n",
       "      <td>...</td>\n",
       "      <td>Red</td>\n",
       "      <td>False</td>\n",
       "      <td>NaN</td>\n",
       "      <td>Undiscovered</td>\n",
       "      <td>NaN</td>\n",
       "      <td>False</td>\n",
       "      <td>5.79</td>\n",
       "      <td>203.0</td>\n",
       "      <td>45</td>\n",
       "      <td>two_wings</td>\n",
       "    </tr>\n",
       "    <tr>\n",
       "      <th>717</th>\n",
       "      <td>718</td>\n",
       "      <td>Zygarde</td>\n",
       "      <td>Dragon</td>\n",
       "      <td>Ground</td>\n",
       "      <td>600</td>\n",
       "      <td>108</td>\n",
       "      <td>100</td>\n",
       "      <td>121</td>\n",
       "      <td>81</td>\n",
       "      <td>95</td>\n",
       "      <td>...</td>\n",
       "      <td>Green</td>\n",
       "      <td>False</td>\n",
       "      <td>NaN</td>\n",
       "      <td>Undiscovered</td>\n",
       "      <td>NaN</td>\n",
       "      <td>False</td>\n",
       "      <td>5.00</td>\n",
       "      <td>305.0</td>\n",
       "      <td>3</td>\n",
       "      <td>serpentine_body</td>\n",
       "    </tr>\n",
       "    <tr>\n",
       "      <th>718</th>\n",
       "      <td>719</td>\n",
       "      <td>Diancie</td>\n",
       "      <td>Rock</td>\n",
       "      <td>Fairy</td>\n",
       "      <td>600</td>\n",
       "      <td>50</td>\n",
       "      <td>100</td>\n",
       "      <td>150</td>\n",
       "      <td>100</td>\n",
       "      <td>150</td>\n",
       "      <td>...</td>\n",
       "      <td>Pink</td>\n",
       "      <td>False</td>\n",
       "      <td>NaN</td>\n",
       "      <td>Undiscovered</td>\n",
       "      <td>NaN</td>\n",
       "      <td>True</td>\n",
       "      <td>0.71</td>\n",
       "      <td>8.8</td>\n",
       "      <td>3</td>\n",
       "      <td>head_arms</td>\n",
       "    </tr>\n",
       "    <tr>\n",
       "      <th>719</th>\n",
       "      <td>720</td>\n",
       "      <td>Hoopa</td>\n",
       "      <td>Psychic</td>\n",
       "      <td>Ghost</td>\n",
       "      <td>600</td>\n",
       "      <td>80</td>\n",
       "      <td>110</td>\n",
       "      <td>60</td>\n",
       "      <td>150</td>\n",
       "      <td>130</td>\n",
       "      <td>...</td>\n",
       "      <td>Purple</td>\n",
       "      <td>False</td>\n",
       "      <td>NaN</td>\n",
       "      <td>Undiscovered</td>\n",
       "      <td>NaN</td>\n",
       "      <td>False</td>\n",
       "      <td>0.51</td>\n",
       "      <td>9.0</td>\n",
       "      <td>3</td>\n",
       "      <td>head_only</td>\n",
       "    </tr>\n",
       "    <tr>\n",
       "      <th>720</th>\n",
       "      <td>721</td>\n",
       "      <td>Volcanion</td>\n",
       "      <td>Fire</td>\n",
       "      <td>Water</td>\n",
       "      <td>600</td>\n",
       "      <td>80</td>\n",
       "      <td>110</td>\n",
       "      <td>120</td>\n",
       "      <td>130</td>\n",
       "      <td>90</td>\n",
       "      <td>...</td>\n",
       "      <td>Brown</td>\n",
       "      <td>False</td>\n",
       "      <td>NaN</td>\n",
       "      <td>Undiscovered</td>\n",
       "      <td>NaN</td>\n",
       "      <td>False</td>\n",
       "      <td>1.70</td>\n",
       "      <td>195.0</td>\n",
       "      <td>3</td>\n",
       "      <td>quadruped</td>\n",
       "    </tr>\n",
       "  </tbody>\n",
       "</table>\n",
       "<p>721 rows × 23 columns</p>\n",
       "</div>"
      ],
      "text/plain": [
       "     Number        Name   Type_1  Type_2  Total   HP  Attack  Defense  Sp_Atk  \\\n",
       "0         1   Bulbasaur    Grass  Poison    318   45      49       49      65   \n",
       "1         2     Ivysaur    Grass  Poison    405   60      62       63      80   \n",
       "2         3    Venusaur    Grass  Poison    525   80      82       83     100   \n",
       "3         4  Charmander     Fire     NaN    309   39      52       43      60   \n",
       "4         5  Charmeleon     Fire     NaN    405   58      64       58      80   \n",
       "..      ...         ...      ...     ...    ...  ...     ...      ...     ...   \n",
       "716     717     Yveltal     Dark  Flying    680  126     131       95     131   \n",
       "717     718     Zygarde   Dragon  Ground    600  108     100      121      81   \n",
       "718     719     Diancie     Rock   Fairy    600   50     100      150     100   \n",
       "719     720       Hoopa  Psychic   Ghost    600   80     110       60     150   \n",
       "720     721   Volcanion     Fire   Water    600   80     110      120     130   \n",
       "\n",
       "     Sp_Def  ...   Color  hasGender  Pr_Male   Egg_Group_1  Egg_Group_2  \\\n",
       "0        65  ...   Green       True    0.875       Monster        Grass   \n",
       "1        80  ...   Green       True    0.875       Monster        Grass   \n",
       "2       100  ...   Green       True    0.875       Monster        Grass   \n",
       "3        50  ...     Red       True    0.875       Monster       Dragon   \n",
       "4        65  ...     Red       True    0.875       Monster       Dragon   \n",
       "..      ...  ...     ...        ...      ...           ...          ...   \n",
       "716      98  ...     Red      False      NaN  Undiscovered          NaN   \n",
       "717      95  ...   Green      False      NaN  Undiscovered          NaN   \n",
       "718     150  ...    Pink      False      NaN  Undiscovered          NaN   \n",
       "719     130  ...  Purple      False      NaN  Undiscovered          NaN   \n",
       "720      90  ...   Brown      False      NaN  Undiscovered          NaN   \n",
       "\n",
       "     hasMegaEvolution Height_m Weight_kg  Catch_Rate       Body_Style  \n",
       "0               False     0.71       6.9          45        quadruped  \n",
       "1               False     0.99      13.0          45        quadruped  \n",
       "2                True     2.01     100.0          45        quadruped  \n",
       "3               False     0.61       8.5          45   bipedal_tailed  \n",
       "4               False     1.09      19.0          45   bipedal_tailed  \n",
       "..                ...      ...       ...         ...              ...  \n",
       "716             False     5.79     203.0          45        two_wings  \n",
       "717             False     5.00     305.0           3  serpentine_body  \n",
       "718              True     0.71       8.8           3        head_arms  \n",
       "719             False     0.51       9.0           3        head_only  \n",
       "720             False     1.70     195.0           3        quadruped  \n",
       "\n",
       "[721 rows x 23 columns]"
      ]
     },
     "execution_count": 82,
     "metadata": {},
     "output_type": "execute_result"
    }
   ],
   "source": [
    "import pandas as pd\n",
    "import numpy as np\n",
    "df = pd.read_csv('C://Users//akram//Мой диск//Colab Notebooks//DataSets//Pokémon//pokemon_alopez247.csv')\n",
    "df"
   ]
  },
  {
   "cell_type": "code",
   "execution_count": 73,
   "id": "ed7412da",
   "metadata": {},
   "outputs": [],
   "source": [
    "df = df[['Name', 'Total']]"
   ]
  },
  {
   "cell_type": "code",
   "execution_count": 74,
   "id": "59f942f6",
   "metadata": {
    "scrolled": false
   },
   "outputs": [
    {
     "data": {
      "image/png": "[encoded data removed]",
      "text/plain": [
       "<Figure size 1440x864 with 1 Axes>"
      ]
     },
     "metadata": {
      "needs_background": "light"
     },
     "output_type": "display_data"
    }
   ],
   "source": [
    "import matplotlib.pyplot as plt\n",
    "fig = plt.figure(figsize = (20, 12))\n",
    "ax = fig.gca()\n",
    "\n",
    "freq = df.Total.value_counts()\n",
    "plt.bar(freq.index, freq.values)\n",
    "plt.grid()\n"
   ]
  },
  {
   "cell_type": "code",
   "execution_count": 75,
   "id": "984a141b",
   "metadata": {},
   "outputs": [
    {
     "data": {
      "text/plain": [
       "4.0"
      ]
     },
     "execution_count": 75,
     "metadata": {},
     "output_type": "execute_result"
    }
   ],
   "source": [
    "vals = df.Total.value_counts().values\n",
    "np.quantile(vals, 0.7)"
   ]
  },
  {
   "cell_type": "code",
   "execution_count": 54,
   "id": "44b9240f",
   "metadata": {},
   "outputs": [],
   "source": [
    "our_choice = df.Total.value_counts()[df.Total.value_counts() > 5]"
   ]
  },
  {
   "cell_type": "code",
   "execution_count": 55,
   "id": "8011e3c4",
   "metadata": {},
   "outputs": [],
   "source": [
    "best_pokemons = our_choice.index"
   ]
  },
  {
   "cell_type": "code",
   "execution_count": 56,
   "id": "4684945c",
   "metadata": {
    "scrolled": false
   },
   "outputs": [
    {
     "data": {
      "image/png": "[encoded data removed]",
      "text/plain": [
       "<Figure size 1440x864 with 1 Axes>"
      ]
     },
     "metadata": {
      "needs_background": "light"
     },
     "output_type": "display_data"
    }
   ],
   "source": [
    "fig = plt.figure(figsize = (20, 12))\n",
    "plt.xticks(rotation=90)\n",
    "ax = fig.gca()\n",
    "\n",
    "plt.bar(our_choice.index, our_choice.values)\n",
    "plt.grid()"
   ]
  },
  {
   "cell_type": "code",
   "execution_count": 76,
   "id": "68ad423a",
   "metadata": {},
   "outputs": [],
   "source": [
    "import seaborn as sns"
   ]
  },
  {
   "cell_type": "code",
   "execution_count": 89,
   "id": "e2e85261",
   "metadata": {
    "scrolled": true
   },
   "outputs": [
    {
     "name": "stderr",
     "output_type": "stream",
     "text": [
      "C:\\anaconda\\lib\\site-packages\\seaborn\\_decorators.py:36: FutureWarning: Pass the following variables as keyword args: x, y. From version 0.12, the only valid positional argument will be `data`, and passing other arguments without an explicit keyword will result in an error or misinterpretation.\n",
      "  warnings.warn(\n"
     ]
    },
    {
     "data": {
      "text/plain": [
       "Text(0.5, 1.0, 'Total(x) and Defense(y)')"
      ]
     },
     "execution_count": 89,
     "metadata": {},
     "output_type": "execute_result"
    },
    {
     "data": {
      "image/png": "[encoded data removed]",
      "text/plain": [
       "<Figure size 432x288 with 1 Axes>"
      ]
     },
     "metadata": {
      "needs_background": "light"
     },
     "output_type": "display_data"
    },
    {
     "data": {
      "image/png": "[encoded data removed]",
      "text/plain": [
       "<Figure size 1008x576 with 2 Axes>"
      ]
     },
     "metadata": {
      "needs_background": "light"
     },
     "output_type": "display_data"
    }
   ],
   "source": [
    "x = df[\"Attack\"]\n",
    "y = df[\"Defense\"]\n",
    "sns.boxplot(x, y)\n",
    "fig, (ax1,ax2) = plt.subplots(1, 2,figsize=(14,8) ,sharex=True,sharey=True)\n",
    "ax1.scatter(df[\"Total\"], df[\"Defense\"])\n",
    "ax1.set_title(\"Total(x) and defense(y)\")\n",
    "ax2.scatter(df[\"Total\"], df[\"Defense\"])\n",
    "ax2.set_title(\"Total(x) and Defense(y)\")"
   ]
  },
  {
   "cell_type": "code",
   "execution_count": null,
   "id": "71ce77c5",
   "metadata": {},
   "outputs": [],
   "source": []
  },
  {
   "cell_type": "code",
   "execution_count": null,
   "id": "31305792",
   "metadata": {},
   "outputs": [],
   "source": []
  },
  {
   "cell_type": "code",
   "execution_count": null,
   "id": "49a40556",
   "metadata": {},
   "outputs": [],
   "source": []
  },
  {
   "cell_type": "code",
   "execution_count": null,
   "id": "5a679d31",
   "metadata": {},
   "outputs": [],
   "source": []
  },
  {
   "cell_type": "code",
   "execution_count": null,
   "id": "7e4b6233",
   "metadata": {},
   "outputs": [],
   "source": []
  },
  {
   "cell_type": "code",
   "execution_count": null,
   "id": "c92a2137",
   "metadata": {},
   "outputs": [],
   "source": []
  },
  {
   "cell_type": "code",
   "execution_count": null,
   "id": "731f818b",
   "metadata": {},
   "outputs": [],
   "source": []
  },
  {
   "cell_type": "code",
   "execution_count": null,
   "id": "a56c5a7e",
   "metadata": {},
   "outputs": [],
   "source": []
  },
  {
   "cell_type": "code",
   "execution_count": null,
   "id": "147e5c49",
   "metadata": {},
   "outputs": [],
   "source": []
  },
  {
   "cell_type": "code",
   "execution_count": null,
   "id": "414a8545",
   "metadata": {},
   "outputs": [],
   "source": []
  },
  {
   "cell_type": "code",
   "execution_count": null,
   "id": "1514a8d4",
   "metadata": {},
   "outputs": [],
   "source": []
  }
 ],
 "metadata": {
  "kernelspec": {
   "display_name": "Python 3 (ipykernel)",
   "language": "python",
   "name": "python3"
  },
  "language_info": {
   "codemirror_mode": {
    "name": "ipython",
    "version": 3
   },
   "file_extension": ".py",
   "mimetype": "text/x-python",
   "name": "python",
   "nbconvert_exporter": "python",
   "pygments_lexer": "ipython3",
   "version": "3.9.7"
  }
 },
 "nbformat": 4,
 "nbformat_minor": 5
}
