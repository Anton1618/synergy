{
 "cells": [
  {
   "cell_type": "code",
   "execution_count": 222,
   "id": "4fdf51f7",
   "metadata": {},
   "outputs": [],
   "source": [
    "import numpy as np"
   ]
  },
  {
   "cell_type": "code",
   "execution_count": 26,
   "id": "d0e5c3d7",
   "metadata": {},
   "outputs": [],
   "source": [
    "arr = np.array([1, 5, 3, 3, 2, 3, 1])"
   ]
  },
  {
   "cell_type": "code",
   "execution_count": 21,
   "id": "9b17462c",
   "metadata": {
    "scrolled": true
   },
   "outputs": [
    {
     "name": "stdout",
     "output_type": "stream",
     "text": [
      "5 1\n"
     ]
    }
   ],
   "source": [
    "# Всроенные функции нахождения максимальных и минимальных значений\n",
    "print(max(arr), min(arr))"
   ]
  },
  {
   "cell_type": "code",
   "execution_count": 22,
   "id": "47fc8bb7",
   "metadata": {
    "scrolled": true
   },
   "outputs": [
    {
     "name": "stdout",
     "output_type": "stream",
     "text": [
      "5 1\n"
     ]
    }
   ],
   "source": [
    "# Функции numpy для нахождения максимальных и минимальных значений\n",
    "print(np.amax(arr), np.amin(arr))"
   ]
  },
  {
   "cell_type": "code",
   "execution_count": 24,
   "id": "c10f98ef",
   "metadata": {
    "scrolled": true
   },
   "outputs": [
    {
     "name": "stdout",
     "output_type": "stream",
     "text": [
      "1 0\n"
     ]
    }
   ],
   "source": [
    "# Функции numpy для нахождения индекса максимального и минимального значений\n",
    "print(np.argmax(arr), np.argmin(arr))"
   ]
  },
  {
   "cell_type": "code",
   "execution_count": 15,
   "id": "f1632d0f",
   "metadata": {},
   "outputs": [],
   "source": [
    "arr = np.arange(16).reshape(-1, 4)[::-1]"
   ]
  },
  {
   "cell_type": "code",
   "execution_count": 16,
   "id": "de8430aa",
   "metadata": {},
   "outputs": [
    {
     "data": {
      "text/plain": [
       "array([12, 13, 14, 15,  8,  9, 10, 11,  4,  5,  6,  7,  0,  1,  2,  3])"
      ]
     },
     "execution_count": 16,
     "metadata": {},
     "output_type": "execute_result"
    }
   ],
   "source": [
    "arr.reshape(-1)"
   ]
  },
  {
   "cell_type": "code",
   "execution_count": null,
   "id": "0923b27e",
   "metadata": {},
   "outputs": [],
   "source": []
  },
  {
   "cell_type": "code",
   "execution_count": 229,
   "id": "ba5bde06",
   "metadata": {},
   "outputs": [],
   "source": [
    "# Присутствие в вычислениях non и inf\n",
    "nan_inf_arr = np.array([1, 2, np.inf, 4, 5, np.nan, 7, 8])"
   ]
  },
  {
   "cell_type": "code",
   "execution_count": 232,
   "id": "386426d4",
   "metadata": {},
   "outputs": [
    {
     "name": "stdout",
     "output_type": "stream",
     "text": [
      "Максимальное значение: nan\n",
      "Минимальное значение: nan\n"
     ]
    }
   ],
   "source": [
    "# Любая операция в состав которой входит non, возвращает nan. \n",
    "# Например, нахождение максимального\\минимального значений, арифметические операции: умножения, деления и тд, статистические операции: взятие среднего значения, нахождение квартиля и тд\n",
    "print(f'Максимальное значение: {np.amax(nan_inf_arr)}')\n",
    "print(f'Минимальное значение: {np.amin(nan_inf_arr)}')"
   ]
  },
  {
   "cell_type": "code",
   "execution_count": null,
   "id": "dc3cde4f",
   "metadata": {},
   "outputs": [],
   "source": []
  },
  {
   "cell_type": "code",
   "execution_count": null,
   "id": "9e23c503",
   "metadata": {},
   "outputs": [],
   "source": []
  },
  {
   "cell_type": "code",
   "execution_count": null,
   "id": "259d0f65",
   "metadata": {},
   "outputs": [],
   "source": []
  },
  {
   "cell_type": "code",
   "execution_count": null,
   "id": "a76fb507",
   "metadata": {},
   "outputs": [],
   "source": []
  },
  {
   "cell_type": "code",
   "execution_count": null,
   "id": "23eba2d0",
   "metadata": {},
   "outputs": [],
   "source": []
  },
  {
   "cell_type": "code",
   "execution_count": null,
   "id": "f1b5e19b",
   "metadata": {},
   "outputs": [],
   "source": []
  }
 ],
 "metadata": {
  "kernelspec": {
   "display_name": "Python 3 (ipykernel)",
   "language": "python",
   "name": "python3"
  },
  "language_info": {
   "codemirror_mode": {
    "name": "ipython",
    "version": 3
   },
   "file_extension": ".py",
   "mimetype": "text/x-python",
   "name": "python",
   "nbconvert_exporter": "python",
   "pygments_lexer": "ipython3",
   "version": "3.9.7"
  }
 },
 "nbformat": 4,
 "nbformat_minor": 5
}
